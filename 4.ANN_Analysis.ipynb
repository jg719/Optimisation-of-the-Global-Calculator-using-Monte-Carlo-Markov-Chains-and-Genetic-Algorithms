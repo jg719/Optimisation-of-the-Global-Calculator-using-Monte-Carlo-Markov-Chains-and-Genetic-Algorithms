{
 "cells": [
  {
   "cell_type": "code",
   "execution_count": 1,
   "metadata": {
    "colab": {},
    "colab_type": "code",
    "id": "yGdDw5pIw4CU"
   },
   "outputs": [],
   "source": [
    "import torch\n",
    "from torch.autograd import Variable\n",
    "import torch.nn.functional as F\n",
    "import torch.utils.data as Data\n",
    "import matplotlib.pyplot as plt\n",
    "%matplotlib inline\n",
    "\n",
    "import numpy as np\n",
    "import imageio"
   ]
  },
  {
   "cell_type": "code",
   "execution_count": 2,
   "metadata": {
    "colab": {},
    "colab_type": "code",
    "id": "9Ww4CRlz68eu"
   },
   "outputs": [],
   "source": [
    "import pandas as pd"
   ]
  },
  {
   "cell_type": "markdown",
   "metadata": {
    "colab_type": "text",
    "id": "aae3r0Ut6856"
   },
   "source": [
    "Loading training data"
   ]
  },
  {
   "cell_type": "code",
   "execution_count": 3,
   "metadata": {
    "colab": {
     "base_uri": "https://localhost:8080/",
     "height": 125
    },
    "colab_type": "code",
    "id": "ayC-M6528Q6F",
    "outputId": "7df7163c-ab1b-4925-9f56-0e19ebca6c7f"
   },
   "outputs": [
    {
     "name": "stdout",
     "output_type": "stream",
     "text": [
      "Go to this URL in a browser: https://accounts.google.com/o/oauth2/auth?client_id=947318989803-6bn6qk8qdgf4n4g3pfee6491hc0brc4i.apps.googleusercontent.com&redirect_uri=urn%3aietf%3awg%3aoauth%3a2.0%3aoob&scope=email%20https%3a%2f%2fwww.googleapis.com%2fauth%2fdocs.test%20https%3a%2f%2fwww.googleapis.com%2fauth%2fdrive%20https%3a%2f%2fwww.googleapis.com%2fauth%2fdrive.photos.readonly%20https%3a%2f%2fwww.googleapis.com%2fauth%2fpeopleapi.readonly&response_type=code\n",
      "\n",
      "Enter your authorization code:\n",
      "··········\n",
      "Mounted at /content/gdrive\n"
     ]
    }
   ],
   "source": [
    "from google.colab import drive\n",
    "drive.mount('/content/gdrive')"
   ]
  },
  {
   "cell_type": "code",
   "execution_count": 4,
   "metadata": {
    "colab": {},
    "colab_type": "code",
    "id": "O4nG6lcs6_EZ"
   },
   "outputs": [],
   "source": [
    "dfs_4 = pd.read_excel(\"/content/gdrive/My Drive/training_test_set.xlsx\") # file mapping lever names to xpaths"
   ]
  },
  {
   "cell_type": "code",
   "execution_count": 5,
   "metadata": {
    "colab": {},
    "colab_type": "code",
    "id": "psyJiiBO8hCR"
   },
   "outputs": [],
   "source": [
    "# Load input samples and convert to Float Tensor\n",
    "inputs = dfs_4.iloc[:, 0:48].to_numpy()\n",
    "inputs = torch.tensor(inputs)\n",
    "inputs = inputs.type(torch.FloatTensor)"
   ]
  },
  {
   "cell_type": "code",
   "execution_count": 6,
   "metadata": {
    "colab": {},
    "colab_type": "code",
    "id": "538JQkCr8viF"
   },
   "outputs": [],
   "source": [
    "# Load output samples and convert to Float Tensor\n",
    "targets = dfs_4.iloc[:, 49:]\n",
    "#targets=(targets-targets.mean())/targets.std() # Uncomment to enable output standardisation\n",
    "targets = targets.to_numpy()\n",
    "targets = torch.tensor(targets)\n",
    "targets = targets.type(torch.FloatTensor)"
   ]
  },
  {
   "cell_type": "markdown",
   "metadata": {
    "colab_type": "text",
    "id": "efooZ5DO6Smj"
   },
   "source": [
    "Setting input to size 48"
   ]
  },
  {
   "cell_type": "code",
   "execution_count": 7,
   "metadata": {
    "colab": {
     "base_uri": "https://localhost:8080/",
     "height": 34
    },
    "colab_type": "code",
    "id": "Qi-EO-qEyV3K",
    "outputId": "979bf376-5c96-475a-e9a6-11103b2f00d4"
   },
   "outputs": [
    {
     "data": {
      "text/plain": [
       "torch.Size([1000, 48])"
      ]
     },
     "execution_count": 7,
     "metadata": {
      "tags": []
     },
     "output_type": "execute_result"
    }
   ],
   "source": [
    "# Random input tensor to test the network\n",
    "rand_tensor = torch.rand((1000, 48))\n",
    "rand_tensor.size()"
   ]
  },
  {
   "cell_type": "markdown",
   "metadata": {
    "colab_type": "text",
    "id": "kmbcJsCU6VtS"
   },
   "source": [
    "Adapting network dimensions"
   ]
  },
  {
   "cell_type": "code",
   "execution_count": 101,
   "metadata": {
    "colab": {},
    "colab_type": "code",
    "id": "CF8-2DwZ2oxL"
   },
   "outputs": [],
   "source": [
    "# Initialise the network using fully connected layers and leaky Relus as activation function\n",
    "def initialise_net():\n",
    "    \"\"\"\n",
    "    Initialise feed forward neural network with 4 fully connected layers of size 48, 100, 70 and 55. \n",
    "    \n",
    "    **Returns**:\n",
    "    torch.nn\n",
    "    \"\"\"\n",
    "  net = torch.nn.Sequential(\n",
    "          torch.nn.Linear(48, 100),\n",
    "          torch.nn.LeakyReLU(),\n",
    "          torch.nn.Linear(100, 100),\n",
    "          torch.nn.LeakyReLU(),\n",
    "          torch.nn.Linear(100, 70),\n",
    "          torch.nn.LeakyReLU(),\n",
    "          torch.nn.Linear(70, 55),\n",
    "      )\n",
    "  return net"
   ]
  },
  {
   "cell_type": "code",
   "execution_count": 133,
   "metadata": {
    "colab": {
     "base_uri": "https://localhost:8080/",
     "height": 176
    },
    "colab_type": "code",
    "id": "0igeNREz9dnz",
    "outputId": "81e7286f-4001-4b45-e4f4-8e7d18133546"
   },
   "outputs": [
    {
     "data": {
      "text/plain": [
       "Sequential(\n",
       "  (0): Linear(in_features=48, out_features=100, bias=True)\n",
       "  (1): LeakyReLU(negative_slope=0.01)\n",
       "  (2): Linear(in_features=100, out_features=100, bias=True)\n",
       "  (3): LeakyReLU(negative_slope=0.01)\n",
       "  (4): Linear(in_features=100, out_features=70, bias=True)\n",
       "  (5): LeakyReLU(negative_slope=0.01)\n",
       "  (6): Linear(in_features=70, out_features=55, bias=True)\n",
       ")"
      ]
     },
     "execution_count": 133,
     "metadata": {
      "tags": []
     },
     "output_type": "execute_result"
    }
   ],
   "source": [
    "initialise_net()"
   ]
  },
  {
   "cell_type": "markdown",
   "metadata": {
    "colab_type": "text",
    "id": "pmmAeX1t6Xwa"
   },
   "source": [
    "Generatinng a prediction"
   ]
  },
  {
   "cell_type": "code",
   "execution_count": 95,
   "metadata": {
    "colab": {
     "base_uri": "https://localhost:8080/",
     "height": 34
    },
    "colab_type": "code",
    "id": "Grqvxmxj2xE3",
    "outputId": "ba61362b-0ec1-433c-a343-8573fb65f250"
   },
   "outputs": [
    {
     "data": {
      "text/plain": [
       "torch.Size([3801, 55])"
      ]
     },
     "execution_count": 95,
     "metadata": {
      "tags": []
     },
     "output_type": "execute_result"
    }
   ],
   "source": [
    "# Test network by passing sample input\n",
    "prediction = net(inputs)\n",
    "prediction.size()"
   ]
  },
  {
   "cell_type": "markdown",
   "metadata": {
    "colab_type": "text",
    "id": "6jFbV1JB91Rg"
   },
   "source": [
    "Define the loss function"
   ]
  },
  {
   "cell_type": "code",
   "execution_count": null,
   "metadata": {
    "colab": {},
    "colab_type": "code",
    "id": "Vmupc-kB93Tm"
   },
   "outputs": [],
   "source": [
    "# Use a scale-free error metric, such as MAPE:\n",
    "def my_loss(y_true, y_pred):  # Mean Absolute Percentual Error (MAPE)\n",
    "    \"\"\"\n",
    "    Given the target and the current values, compute the Mean Absolute Percentage Error (MAPE).\n",
    "    \n",
    "    *Args*:\n",
    "    \n",
    "    - y_true(array): Target value. \n",
    "    - y_pred(array): Current value. \n",
    "    \n",
    "    *Returns*:\n",
    "    MAPE. \n",
    "    \n",
    "    \"\"\"\n",
    "    return torch.mean(torch.abs((y_true - y_pred) / y_true)) * 100"
   ]
  },
  {
   "cell_type": "markdown",
   "metadata": {
    "colab_type": "text",
    "id": "VtMcai8j6gwt"
   },
   "source": [
    "Comparing the prediction to the target"
   ]
  },
  {
   "cell_type": "code",
   "execution_count": 134,
   "metadata": {
    "colab": {
     "base_uri": "https://localhost:8080/",
     "height": 34
    },
    "colab_type": "code",
    "id": "h13wOqFD6fTe",
    "outputId": "9682b0ed-26ea-489f-cf44-866a1c22e90c"
   },
   "outputs": [
    {
     "data": {
      "text/plain": [
       "tensor(105691.0391, grad_fn=<MulBackward0>)"
      ]
     },
     "execution_count": 134,
     "metadata": {
      "tags": []
     },
     "output_type": "execute_result"
    }
   ],
   "source": [
    "# Calculate loss of random target pair\n",
    "rand_target = torch.rand((1000, 55))\n",
    "loss = my_loss(prediction, targets)     # must be (1. nn output, 2. target)\n",
    "loss"
   ]
  },
  {
   "cell_type": "markdown",
   "metadata": {
    "colab_type": "text",
    "id": "GfyzmeVY-ETd"
   },
   "source": [
    "Train the network with different learning rates"
   ]
  },
  {
   "cell_type": "code",
   "execution_count": 141,
   "metadata": {
    "colab": {
     "base_uri": "https://localhost:8080/",
     "height": 290
    },
    "colab_type": "code",
    "id": "pl6eEf1qw40h",
    "outputId": "c29521c4-b17f-4722-ceb9-8a6900a8f7de"
   },
   "outputs": [
    {
     "data": {
      "image/png": "[encoded data removed]",
      "text/plain": [
       "<Figure size 432x288 with 1 Axes>"
      ]
     },
     "metadata": {
      "needs_background": "light",
      "tags": []
     },
     "output_type": "display_data"
    }
   ],
   "source": [
    "def iterate():\n",
    "    \"\"\"Minimise MAPE\"\"\"\n",
    "    torch.manual_seed(28)    # To keep it reproducible\n",
    "    x = inputs; y = targets # Relabel input and target variables\n",
    "    x, y = Variable(x), Variable(y) # torch can only train on Variable, so convert them to Variable\n",
    "    plt.figure()\n",
    "    for learning_rate in [0.01, 0.005, 0.0025, 0.001]: # Test different learning rates (1D line search)\n",
    "      net = initialise_net() # Initialise network\n",
    "      optimizer = torch.optim.Adam(net.parameters(), lr=learning_rate)\n",
    "      #optimizer = torch.optim.SGD(net.parameters(), lr=learning_rate, momentum = 0.7) # Uncomment to switch to SGD optimiser\n",
    "      all_losses = []\n",
    "      for t in range(100):  # Train por 100 epochs\n",
    "          prediction = net(x)     # Input x and predict based on x\n",
    "          loss = my_loss(prediction, y)     # Must be (1. nn output, 2. target)\n",
    "          all_losses.append(loss)\n",
    "          optimizer.zero_grad()   # Clear gradients for next training\n",
    "          loss.backward()         # Perform backpropagation, compute gradients\n",
    "          optimizer.step()        # Apply gradients\n",
    "      # Plotting routine\n",
    "      plt.plot(all_losses[3:60]) # 10:40\n",
    "      plt.ylabel(\"MAPE\")\n",
    "      plt.xlabel(\"Epoch\")\n",
    "      plt.legend([\"lr = 0.01\", \"lr = 0.005\", \"lr = 0.0025\", \"lr = 0.001\"])\n",
    "iterate()"
   ]
  }
 ],
 "metadata": {
  "colab": {
   "collapsed_sections": [],
   "name": "Untitled2.ipynb",
   "provenance": []
  },
  "kernelspec": {
   "display_name": "Python 3",
   "language": "python",
   "name": "python3"
  },
  "language_info": {
   "codemirror_mode": {
    "name": "ipython",
    "version": 3
   },
   "file_extension": ".py",
   "mimetype": "text/x-python",
   "name": "python",
   "nbconvert_exporter": "python",
   "pygments_lexer": "ipython3",
   "version": "3.7.6"
  }
 },
 "nbformat": 4,
 "nbformat_minor": 1
}
