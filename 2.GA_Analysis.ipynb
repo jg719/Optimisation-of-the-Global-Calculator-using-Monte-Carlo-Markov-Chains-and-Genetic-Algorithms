{
 "cells": [
  {
   "cell_type": "markdown",
   "metadata": {},
   "source": [
    "# Optimisation of the Global Calculator via Genetic Algorithms"
   ]
  },
  {
   "cell_type": "markdown",
   "metadata": {},
   "source": [
    "This investigation aims to generate different climate change mitigation pathways with the “Global Calculator” - a complex model used to forecast the world’s energy, food and land systems to 2050 (http://tool.globalcalculator.org/). Performing a constrained optimisation of the model’s input parameter space yields alternative pathways to sustainability. \n",
    " \n",
    "The key challenge of such an optimisation is to explore a broad parameter space (~9e50 different parameter combinations) rapidly.\n",
    "\n",
    "Genetic algorithms are commonly used to generate solutions to optimisation problems by using biologically inspired operators such as mutation, crossover and selection.\n",
    "\n",
    "In this implementation, each generation contains a fixed number of chromosomes (lever combinations). The two fittest (measured by the cost function) chromosomes are selected. These two are mated, yielding a new generation. In this process, random mutations are introduced - These correspond to randomly moving a lever up or down by a quantity of 0.1. \n",
    "\n",
    "This implementation enables the user to find a lever combination that is closest to meeting the constraints. Such constraints are divided into four types:\n",
    "\n",
    "- Input value constraints: The value of any input can be fixed. For example, as per our discussion, we can fix Electric & Hydrogen to 3.0, Global Population to 2.0, Wind to 2.5, Nuclear to 1.0 and Solar Capacity to 3.2. \n",
    "- Input range constraints: I have bounded the range of each lever between 1.5 and 3.5 to avoid extreme / non-realistic values. The range of each lever can be specified – For example, I have (arbitrarily, for illustration purposes) decided to bound the Diet Levers (Calories consumed, Quantity of meat and Type of meat) between 2.2 and 3.0. \n",
    "- Output constraints: If you click the “Compare” tab, you can find around 55 output values that can be constrained. For example, I have (arbitrarily, for illustration purposes) decided to set a constraint for Total energy demand at 420 EJ/year and for Forest area at 4200 million of hectares.\n",
    "- Climate and GDP constraints: All combinations also seek to minimise climate impact and cost.\n",
    "\n",
    "\n",
    "After running the optimiser, a pathway that satisfies all the constraints listed above is generated:\n",
    "\n",
    "http://tool.globalcalculator.org/globcalc.html?levers=2pl3r3vs3j2yhplitmptg2vqy1pyhwoiqmrtmlql3plxyyf222211111111/dashboard/en "
   ]
  },
  {
   "cell_type": "code",
   "execution_count": 2,
   "metadata": {},
   "outputs": [],
   "source": [
    "import time \n",
    "import string\n",
    "import math\n",
    "import random\n",
    "import csv   \n",
    "from functools import reduce\n",
    "from openpyxl import load_workbook\n",
    "\n",
    "import pandas as pd\n",
    "import numpy as np\n",
    "\n",
    "\n",
    "import matplotlib.pyplot as plt\n",
    "from mpl_toolkits.mplot3d import Axes3D\n",
    "import seaborn as sns\n",
    "import itertools\n",
    "\n",
    "import selenium\n",
    "from selenium import webdriver\n",
    "from selenium.common.exceptions import ElementClickInterceptedException\n",
    "from webdriver_manager.chrome import ChromeDriverManager\n",
    "\n",
    "from scipy.optimize import curve_fit\n",
    "from scipy.stats import norm\n",
    "from scipy import optimize\n",
    "from scipy.stats import multivariate_normal\n",
    "\n",
    "from statsmodels.graphics.tsaplots import plot_pacf\n",
    "from statsmodels.graphics.tsaplots import plot_acf"
   ]
  },
  {
   "cell_type": "markdown",
   "metadata": {},
   "source": [
    "# Set-up"
   ]
  },
  {
   "cell_type": "markdown",
   "metadata": {},
   "source": [
    "Use selenium to load a Chrome webdriver. "
   ]
  },
  {
   "cell_type": "code",
   "execution_count": 3,
   "metadata": {},
   "outputs": [
    {
     "name": "stderr",
     "output_type": "stream",
     "text": [
      "[WDM] - Current google-chrome version is 84.0.4147\n",
      "[WDM] - Get LATEST driver version for 84.0.4147\n",
      "[WDM] - Get LATEST driver version for 84.0.4147\n",
      "[WDM] - Trying to download new driver from http://chromedriver.storage.googleapis.com/84.0.4147.30/chromedriver_win32.zip\n"
     ]
    },
    {
     "name": "stdout",
     "output_type": "stream",
     "text": [
      " \n"
     ]
    },
    {
     "name": "stderr",
     "output_type": "stream",
     "text": [
      "[WDM] - Driver has been saved in cache [C:\\Users\\44783\\.wdm\\drivers\\chromedriver\\win32\\84.0.4147.30]\n"
     ]
    }
   ],
   "source": [
    "driver = webdriver.Chrome(ChromeDriverManager().install()) # Set browser"
   ]
  },
  {
   "cell_type": "code",
   "execution_count": 4,
   "metadata": {},
   "outputs": [],
   "source": [
    "driver.get('http://tool.globalcalculator.org/') # Open website"
   ]
  },
  {
   "cell_type": "code",
   "execution_count": 5,
   "metadata": {},
   "outputs": [],
   "source": [
    "id_box = driver.find_element_by_id('lets-start') # Bypass \"Start\" screen\n",
    "id_box.click()"
   ]
  },
  {
   "cell_type": "markdown",
   "metadata": {},
   "source": [
    "Read files mapping inputs and outputs to the calculator. "
   ]
  },
  {
   "cell_type": "code",
   "execution_count": 6,
   "metadata": {},
   "outputs": [],
   "source": [
    "dfs = pd.read_excel(\"excel_files/Output_map.xlsx\") # File mapping output lever names to xpaths \n",
    "dfs_3 = pd.read_excel(\"excel_files/Input_map.xlsx\") # File mapping input names to xpaths \n",
    "for i in range(len(dfs)): # Generate html lever addresses and put them in the dataframe\n",
    "    dfs.iloc[i, 2] = '/html/body/table[1]/tbody/tr/td/table/tbody/tr[2]/td[1]/div[13]/div/table/tbody/tr[' + str(dfs.iloc[i, 1]).strip(\"%\") + ']/td[5]/div/font' "
   ]
  },
  {
   "cell_type": "code",
   "execution_count": 7,
   "metadata": {},
   "outputs": [],
   "source": [
    "# Each letter corresponds to a lever value: a = 1.0; b = 1.1; c = 1.2; ... C = 3.9; D = 4.0\n",
    "letters = ['a', 'b', 'c', 'd', 'e', 'f', 'g', 'h', 'i', 'j', 'k', 'l', 'm', 'n', 'o', 'p', 'q', 'r', 's', 't', 'u', 'v', 'w', 'x', 'y', 'z', 'A', 'B', 'C', 'D']\n",
    "lever_names = list(dfs_3.iloc[:, 0].to_numpy()) # Create list with all lever names\n",
    "output_names = list(dfs.iloc[:, 0].to_numpy()) # Create list with all output names"
   ]
  },
  {
   "cell_type": "code",
   "execution_count": 8,
   "metadata": {},
   "outputs": [],
   "source": [
    "def map_to_letter(value):\n",
    "    \"\"\"Takes a float value in the range [1, 4.0] and returns its corresponding URL character\"\"\"\n",
    "    if value != 2 and value != 3 and value != 4: # Special cases \n",
    "        if value < 4: \n",
    "            pos = int((value - 1.0)*10)\n",
    "            try:\n",
    "                back = letters[pos]\n",
    "            except: # Oops, the value is out of bounds\n",
    "                print(\"Not enough letters, fetching position: \", pos, \" corresponding to value: \", value)\n",
    "        else: # Special case: Value = 4\n",
    "            back = letters[-1]\n",
    "    else: \n",
    "        back = int(value)\n",
    "    return back"
   ]
  },
  {
   "cell_type": "code",
   "execution_count": 9,
   "metadata": {},
   "outputs": [],
   "source": [
    "def initial_chromosome():\n",
    "    \"\"\"Generates and return a random URL (address) and its corresponding lever values (input_levers)\"\"\"\n",
    "    address = []; input_levers = []\n",
    "    string = \"\" # URL address to be stored here\n",
    "    for i in range(49): # Generate a random value for each lever, map it to a letter and save it\n",
    "        rand_float = random.randint(18, 32)/10 # Define bounds for random number generator (currently set to [1.8, 3.2])\n",
    "        input_levers.append(rand_float); address.append(map_to_letter(rand_float)) # Store them\n",
    "    address[43:47] = [1, 1, 1, 1]  # CCS values are fixed at 1 for the moment\n",
    "    input_levers[43:47] = [1, 1, 1, 1] # CCS values are fixed at 1 for the moment  \n",
    "    for i in address: # Construct string containing the current lever combination\n",
    "        string = string + str(i)\n",
    "    address = \"http://tool.globalcalculator.org/globcalc.html?levers=\" + string + \"2211111111/technology/en\" # Construct URL address\n",
    "    return address, input_levers"
   ]
  },
  {
   "cell_type": "code",
   "execution_count": 10,
   "metadata": {},
   "outputs": [],
   "source": [
    "def new_URL(name, value, address = \"http://tool.globalcalculator.org/globcalc.html?levers=l2wz222CBpp3pC3f2Dw3DC3plzgj1tA13pp2p223ri11111p22211111111/dashboard/en\"): \n",
    "    \"\"\" \n",
    "    Generate a new URL address by changing a lever value.\n",
    "        Parameters:\n",
    "        - Name (string): Target lever name\n",
    "        - Value (float): Target value for lever\n",
    "        - Address (string): URL where lever will be changed. Set to TIAM-UCL 2DS pathway by default. \n",
    "        Returns:\n",
    "        - URL (string): URL after changes. \n",
    "    \"\"\"\n",
    "    value = map_to_letter(value) # Map value to letter \n",
    "    index = int(find_lever_URL_position(name)) # Find URL position of given lever\n",
    "    URL = address[ : 53 + index] + str(value) + address[54 + index :] # Insert given value in its corresponding URL position\n",
    "    return URL "
   ]
  },
  {
   "cell_type": "code",
   "execution_count": 11,
   "metadata": {},
   "outputs": [],
   "source": [
    "def find_lever_URL_position(name): \n",
    "    \"\"\"Given a lever name, return its position in the URL\"\"\"\n",
    "    return str(dfs_3[dfs_3.iloc[:, 0].str.match(name)].iloc[0, 1]) # Get lever position to insert in the URL"
   ]
  },
  {
   "cell_type": "code",
   "execution_count": 12,
   "metadata": {},
   "outputs": [],
   "source": [
    "def open_lever_menus():\n",
    "    \"\"\"Opens all the lever menus of the Global Calculator\"\"\"\n",
    "    for i in range(1, 16): # Iterate through menus\n",
    "        try: # Tries to open the menu\n",
    "            driver.find_element_by_xpath('//*[@id=\"ml-open-close-link-' + str(i) +  '\"]' ).click() # Open menu\n",
    "            time.sleep(0.3) # Server can't respond quicker than this \n",
    "        except ElementClickInterceptedException: # If opening menus too fast, then slow down\n",
    "            time.sleep(1)\n",
    "            driver.find_element_by_xpath('//*[@id=\"ml-open-close-link-' + str(i) +  '\"]' ).click()\n",
    "    return"
   ]
  },
  {
   "cell_type": "code",
   "execution_count": 13,
   "metadata": {},
   "outputs": [],
   "source": [
    "def new_lever_combination(threshold = False, threshold_names = [], thresholds = []):\n",
    "    \"\"\"Returns an array containing a random value for each lever\"\"\"\n",
    "    random_lever_values = []\n",
    "    if threshold == False:\n",
    "        for i in range(len(lever_names)):\n",
    "            random_lever_values.append(random.randint(15, 30)/10) # Generate random lever value\n",
    "    else:\n",
    "        for i in range(len(lever_names)):\n",
    "            if lever_names[i] in threshold_names:\n",
    "                lower_threshold, upper_threshold = thresholds[threshold_names.index(lever_names[i])]\n",
    "                random_lever_values.append(random.randint(lower_threshold*10, upper_threshold*10)/10) # Generate random lever value\n",
    "            else:\n",
    "                random_lever_values.append(random.randint(15, 30)/10) # Generate random lever value\n",
    "    return random_lever_values"
   ]
  },
  {
   "cell_type": "code",
   "execution_count": 14,
   "metadata": {},
   "outputs": [],
   "source": [
    "def read_CO2():\n",
    "    \"\"\"For the current lever combination, return the CO2 level (GtCO2)\"\"\"\n",
    "    userid_element = driver.find_element_by_xpath('//*[@id=\"container_dashboard_co2_budget\"]') # Find element that contains CO2 value\n",
    "    time.sleep(0.05)\n",
    "    co2 = userid_element.text.splitlines()[-6] # Get CO2 value from the container\n",
    "    return co2 "
   ]
  },
  {
   "cell_type": "code",
   "execution_count": 15,
   "metadata": {},
   "outputs": [],
   "source": [
    "def moving_average(a, n=3) :\n",
    "    \"\"\"Simple moving average filter\"\"\"\n",
    "    ret = np.cumsum(a, dtype=float) # Cumulative sum of input values\n",
    "    ret[n:] = ret[n:] - ret[:-n] # Differences given by window length n\n",
    "    return ret[n - 1:] / n # Divide by window length"
   ]
  },
  {
   "cell_type": "code",
   "execution_count": 16,
   "metadata": {},
   "outputs": [],
   "source": [
    "def move_lever(lever, value, costs = False,  address = str(driver.current_url),  \n",
    "               constraint = False, constraint_levers = [], constraint_values = []): \n",
    "    \"\"\"\n",
    "    Sets a lever to a given value. Reads corresponding temperature and, if selected, cost values. \n",
    "    Parameters:\n",
    "        - lever (list of strings): Contains the names of the levers to be moved. \n",
    "        - value (list of floats): Contains the value of the levers to be moved - Automatically matched to lever names. \n",
    "        - costs (optional, boolean): Flag to decide whether to read cost values or not. \n",
    "        - address (optional, string): URL address corresponding to given lever combination. \n",
    "        - constraint (optional, boolean): Flaf to decide whether to set exact input constraints or not. \n",
    "        - constraint_levers (optional, list of strings): Contains the names of the levers to be fixed. \n",
    "        - constraint_values (optional, list of floats): Contains the values to fix the specified levers.\n",
    "    Returns:\n",
    "        - output (list): Contains temperature and cost values for the new lever position\n",
    "    \"\"\"\n",
    "    # Update URL address with input lever names and values, one at a time \n",
    "    for i in range(len(lever)):\n",
    "        address = new_URL(lever[i], value[i], address = address)  \n",
    "    \n",
    "    # Overwrite for constraint\n",
    "    if constraint == True: \n",
    "        address = overwrite(constraint_levers, constraint_values, address = address)\n",
    "     \n",
    "    # Open website corresponding to the input values\n",
    "    driver.get(address) \n",
    "    \n",
    "    ########################################## IMPORTANT ####################################################\n",
    "    # All of the lines below are in charge of webscraping the temperature and, if selected, the cost values. \n",
    "    # The Global Calculator is a hard to webscrape website (sometimes, it results in bugs or uncoherent\n",
    "    # temperature and cost values). The code below ensures that, no matter what, the values will be read. \n",
    "    # To do so it performs different actions based on the current state of the website and the output values. \n",
    "    #########################################################################################################\n",
    "    \n",
    "    time.sleep(0.2)\n",
    "    id_box = driver.find_element_by_id('lets-start') # Bypass \"Start\" screen\n",
    "    id_box.click()\n",
    "    time.sleep(1)\n",
    "    \n",
    "    # Read temperature values\n",
    "    try:\n",
    "        output = int(read_CO2()[:4]) # Read output CO2\n",
    "    except: # Problem reading output CO2? The code below sorts it\n",
    "        time.sleep(1)\n",
    "        open_lever_menus() # Open lever menus\n",
    "        move_lever([lever[0]],[1.3], costs = False) # Move lever to an arbitrary value\n",
    "        driver.get(address) # Open website back \n",
    "        time.sleep(0.2)\n",
    "        id_box = driver.find_element_by_id('lets-start') # Bypass \"Start\" screen\n",
    "        id_box.click()\n",
    "        output = int(read_CO2()[:4]) # Read output CO2\n",
    "        \n",
    "    # Read cost values   \n",
    "    if costs == True:   \n",
    "        driver.find_element_by_xpath('//*[@id=\"mn-6\"]').click() # Move to compare tab \n",
    "        time.sleep(0.2)\n",
    "        userid_element = driver.find_element_by_xpath('//*[@id=\"container_costs_vs_counterfactual\"]/div/div[11]') # Read GDP\n",
    "        cost_output = userid_element.text\n",
    "        try:\n",
    "            cost_output = float(cost_output[:4].rstrip(\"%\")) # Convert GDP from string to float\n",
    "        except: # Problem converting GDP? The code below sorts it\n",
    "            cost_output = float(cost_output[:3].rstrip(\"%\"))\n",
    "        \n",
    "        # Reload the page and bypass start\n",
    "        driver.refresh() # Refresh\n",
    "        time.sleep(1)\n",
    "        id_box = driver.find_element_by_id('lets-start') # Bypass \"Start\" screen\n",
    "        id_box.click()\n",
    "        userid_element = driver.find_element_by_xpath('//*[@id=\"container_costs_vs_counterfactual\"]/div/div[12]') # Read text below GDP value\n",
    "        cost_flag = userid_element.text   \n",
    "        \n",
    "        # Find sign of GDP (less expensive => increase; more expensive => decrease)\n",
    "        if cost_flag == 'less expensive': \n",
    "            cost_output = -cost_output # Reverse sign\n",
    "            \n",
    "        # Go back to the overview section\n",
    "        try:\n",
    "            driver.find_element_by_xpath('//*[@id=\"mn-1\"]').click() \n",
    "        except: # Problem going back to the overview section? The code below sorts it\n",
    "            time.sleep(0.2)\n",
    "            id_box = driver.find_element_by_id('lets-start') # Bypass \"Start\" screen\n",
    "            id_box.click()\n",
    "        output = [output, cost_output] # Output temperature and cost values\n",
    "    return  output"
   ]
  },
  {
   "cell_type": "code",
   "execution_count": 17,
   "metadata": {},
   "outputs": [],
   "source": [
    "def move_lever(lever, value, costs = False,  address = str(driver.current_url),  \n",
    "               constraint = False, constraint_levers = [], constraint_values = []): \n",
    "    \"\"\"\n",
    "    Sets a lever to a given value. Reads corresponding temperature and, if selected, cost values. \n",
    "    Parameters:\n",
    "        - lever (list of strings): Contains the names of the levers to be moved. \n",
    "        - value (list of floats): Contains the value of the levers to be moved - Automatically matched to lever names. \n",
    "        - costs (optional, boolean): Flag to decide whether to read cost values or not. \n",
    "        - address (optional, string): URL address corresponding to given lever combination. \n",
    "        - constraint (optional, boolean): Flaf to decide whether to set exact input constraints or not. \n",
    "        - constraint_levers (optional, list of strings): Contains the names of the levers to be fixed. \n",
    "        - constraint_values (optional, list of floats): Contains the values to fix the specified levers.\n",
    "    Returns:\n",
    "        - output (list): Contains temperature and cost values for the new lever position\n",
    "    \"\"\"\n",
    "    # Update URL address with input lever names and values, one at a time \n",
    "    for i in range(len(lever)):\n",
    "        address = new_URL(lever[i], value[i], address = address)  \n",
    "    \n",
    "    # Overwrite for constraint\n",
    "    if constraint == True: \n",
    "        address = overwrite(constraint_levers, constraint_values, address = address)\n",
    "     \n",
    "    # Open website corresponding to the input values\n",
    "    driver.get(address) \n",
    "    \n",
    "    ########################################## IMPORTANT ####################################################\n",
    "    # All of the lines below are in charge of webscraping the temperature and, if selected, the cost values. \n",
    "    # The Global Calculator is a hard to webscrape website (sometimes, it results in bugs or uncoherent\n",
    "    # temperature and cost values). The code below ensures that, no matter what, the values will be read. \n",
    "    # To do so it performs different actions based on the current state of the website and the output values. \n",
    "    #########################################################################################################\n",
    "    \n",
    "    time.sleep(0.2)\n",
    "    id_box = driver.find_element_by_id('lets-start') # Bypass \"Start\" screen\n",
    "    id_box.click()\n",
    "    time.sleep(1)\n",
    "    \n",
    "    # Read temperature values\n",
    "    try:\n",
    "        time.sleep(0.1)\n",
    "        output = int(read_CO2()[:4]) # Read output CO2\n",
    "    except: # Problem reading output CO2? The code below sorts it\n",
    "        time.sleep(1)\n",
    "        open_lever_menus() # Open lever menus\n",
    "        move_lever([lever[0]],[2.0], costs = False) # Move lever to an arbitrary value\n",
    "        driver.get(address) # Open website back \n",
    "        time.sleep(0.2)\n",
    "        id_box = driver.find_element_by_id('lets-start') # Bypass \"Start\" screen\n",
    "        id_box.click()\n",
    "        time.sleep(0.1)\n",
    "        output = int(read_CO2()[:4]) # Read output CO2 # CHANGED\n",
    "        \n",
    "    # Read cost values   \n",
    "    if costs == True:   \n",
    "        driver.find_element_by_xpath('//*[@id=\"mn-6\"]').click() # Move to compare tab \n",
    "        time.sleep(0.2)\n",
    "        userid_element = driver.find_element_by_xpath('//*[@id=\"container_costs_vs_counterfactual\"]/div/div[11]') # Read GDP\n",
    "        cost_output = userid_element.text\n",
    "        try:\n",
    "            cost_output = float(cost_output[:4].rstrip(\"%\")) # Convert GDP from string to float\n",
    "        except: # Problem converting GDP? The code below sorts it\n",
    "            cost_output = float(cost_output[:3].rstrip(\"%\"))\n",
    "        \n",
    "        # Reload the page and bypass start\n",
    "        driver.refresh() # Refresh\n",
    "        time.sleep(1)\n",
    "        id_box = driver.find_element_by_id('lets-start') # Bypass \"Start\" screen\n",
    "        id_box.click()\n",
    "        userid_element = driver.find_element_by_xpath('//*[@id=\"container_costs_vs_counterfactual\"]/div/div[12]') # Read text below GDP value\n",
    "        cost_flag = userid_element.text   \n",
    "        \n",
    "        # Find sign of GDP (less expensive => increase; more expensive => decrease)\n",
    "        if cost_flag == 'less expensive': \n",
    "            cost_output = -cost_output # Reverse sign\n",
    "            \n",
    "        # Go back to the overview section\n",
    "        try:\n",
    "            driver.find_element_by_xpath('//*[@id=\"mn-1\"]').click() \n",
    "        except: # Problem going back to the overview section? The code below sorts it\n",
    "            time.sleep(0.2)\n",
    "            id_box = driver.find_element_by_id('lets-start') # Bypass \"Start\" screen\n",
    "            id_box.click()\n",
    "        output = [output, cost_output] # Output temperature and cost values\n",
    "    return  output"
   ]
  },
  {
   "cell_type": "code",
   "execution_count": 41,
   "metadata": {},
   "outputs": [],
   "source": [
    "def iterate(iterations = 5, population_size = 30, \n",
    "            constraint = False, constraint_levers = [], constraint_values = [], \n",
    "            output_constraint = False, output_constraint_names = [], output_constraints = [],\n",
    "            threshold = False,  threshold_names  = [], thresholds = [],  \n",
    "            plot = False,\n",
    "            std_devs = [] ):\n",
    "    \"\"\"\n",
    "    Given a set of constraints performs GA iteration(s) on the Global Calculator.\n",
    "    Parameters:\n",
    "        - iterations (int): Number of GA iterations. \n",
    "        - population_size (int): Number of chromosomes per iteration. \n",
    "        - constraint (boolean): Flag to decide whether to fix input levers or not. \n",
    "        - constraint_levers (list of strings): Contains the names of the levers to be fixed. \n",
    "        - constraint_Values (list of floats): Contains the values of the levers to be fixed. \n",
    "        - output_constraint (boolean): Flag to decide whether to fix outputs or not. \n",
    "        - output_constraint_names (list of strings): Contains the names of the output to be fixed. \n",
    "        - output_constraints (list of floats): Contains the values of the output to be fixed. \n",
    "        - threshold (boolean): Flag to decide whether to bound levers within a range or not. \n",
    "        - threshold_names (list of strings): Contains the names of the levers to be bounded within a range. \n",
    "        - thresholds (list of list of floats): Contains the upper and lower threshold to bound the specified levers. \n",
    "    Returns:\n",
    "        - all_fitness (list of floats): Contains the total fitness value of each generation.\n",
    "        - lever_values (list of lists of floats): Contains the lever values of all the chromosomes from the last generation.\n",
    "    \"\"\"\n",
    "    legends = []; plt.figure(figsize = (16, 9))\n",
    "    all_fitness = []; lever_values = []; results = []; output_values = []\n",
    "    lever_names = list(dfs_3.iloc[:, 0].to_numpy()) # Create list with all lever names\n",
    "    \n",
    "    # Initialise population randomly\n",
    "    for i in range(population_size): # Population size\n",
    "        \n",
    "        # Generate chromosome and read associated temperature, cost and other output values\n",
    "        lever_values_temp, temperature_cost_temp = generate_chromosome(constraint = constraint, constraint_levers = constraint_levers, constraint_values = constraint_values, threshold = threshold, threshold_names  = threshold_names, thresholds = thresholds)  # Generate chromosome\n",
    "        lever_values.append(lever_values_temp)\n",
    "        results.append(temperature_cost_temp) # Calculate temperature and cost values associated to chromosome\n",
    "        if output_constraint == True: # If output constraint set, read output\n",
    "            output_values.append(read_outputs())      \n",
    "        \n",
    "    # Perform iterations of GA\n",
    "    for j in range(iterations): # Fixed number of iterations (replace by tolerance later on)   \n",
    "        # Plotting routine\n",
    "        if plot == True:\n",
    "            c = next(palette)\n",
    "            count = 1\n",
    "            for pair in results:\n",
    "                if count%population_size == 0:\n",
    "                    plt.plot(pair[0], pair[1], '.',  color=c, label = \"Generation \" + str(j + 1)) #'darkorange' \n",
    "                else: \n",
    "                    count += 1\n",
    "                    plt.plot(pair[0], pair[1], '.',  color=c)\n",
    "            plt.xlim(2700, 4500)\n",
    "            plt.ylim(-5, 2)\n",
    "            plt.xlabel(\"GtCO2 emissions per capita\", fontsize = 15)\n",
    "            plt.ylabel(\"$\\Delta$GDP\", fontsize = 15)\n",
    "            plt.title(\"Population evolution\", fontsize = 20)\n",
    "            plt.legend()\n",
    "            #legends.append(\"Generation \" + str(j))\n",
    "            #plt.show()\n",
    "        \n",
    "        # Evaluate fitness\n",
    "        fitness_values = []\n",
    "        for i in range(len(results)):\n",
    "            if output_constraint == True:\n",
    "                fitness_values.append(fitness(results[i], output_constraint = output_constraint, current_output_values = output_values[i], output_constraint_names =  output_constraint_names, output_constraints = output_constraints, std_devs = std_devs)) \n",
    "            else: \n",
    "                fitness_values.append(fitness(results[i])) \n",
    "        all_fitness.append(sum(fitness_values)) # Find sum of fitness\n",
    "        \n",
    "        # Find fittest candidates <=> Parents  \n",
    "        fittest_index = sorted(range(len(fitness_values)), key = lambda sub: fitness_values[sub])[:2] # Find the fittest 2\n",
    "        parent_1 = lever_values[fittest_index [0]] # Find lever combination of parent 1\n",
    "        parent_2 = lever_values[fittest_index [1]] # Lever combination of aprent 2\n",
    "        \n",
    "        # Printing routine\n",
    "        print(\"Generation: \", j+1, \"; Fitness is: \", sum(fitness_values))\n",
    "        print(\"Temperature and cost values: \", results[fittest_index[0]], \"; \", results[fittest_index[1]])\n",
    "        print(\"Parents:\")\n",
    "        print(parent_1)\n",
    "        print(parent_2, \"\\n\")\n",
    "        \n",
    "        # Crossover and mutation\n",
    "        for i in range(len(lever_values)): # Perform crossover by mating parents using uniform crossover (high mutation prob)\n",
    "            \n",
    "            # If some inputs are bounded within thresholds, take into account when mating\n",
    "            if lever_names[i] in threshold_names:\n",
    "                th = thresholds[threshold_names.index(lever_names[i])] # Temporary variable containing current threshold\n",
    "                lever_values[i] = mate(parent_1, parent_2, threshold = True, threshold_value = th) # Generates full new set of lever combination\n",
    "            \n",
    "            # Otherwise mate right away\n",
    "            else:\n",
    "                lever_values[i] = mate(parent_1, parent_2) # Generates full new set of lever combinations\n",
    "        \n",
    "        results = []; output_values = []\n",
    "        \n",
    "        # Calculate temperature and cost of each lever combination and overwrite lever values according to constraints\n",
    "        for lever_combination in lever_values: # For each chromosome\n",
    "            lever_combination_temp = lever_combination # Store it in a temp variable\n",
    "            # Overwrite lever values with constraints. If current lever is not constrained, it does nothing \n",
    "            lever_names, lever_combination = overwrite_lever_values(lever_names, lever_combination, constraint_levers, constraint_values)\n",
    "            lever_values[lever_values.index(lever_combination_temp)] = lever_combination # Set current lever values after constraint\n",
    "            # Read temperature and cost values for given lever combination (w or w/o constraint)\n",
    "            results.append(move_lever(lever_names, lever_combination, costs = True, constraint = constraint,  constraint_levers = constraint_levers, constraint_values = constraint_values))\n",
    "            # Read outher output values for current lever combination\n",
    "            if output_constraint == True:\n",
    "                output_values.append(read_outputs())\n",
    "    plt.show()\n",
    "    return all_fitness, lever_values"
   ]
  },
  {
   "cell_type": "code",
   "execution_count": 1,
   "metadata": {},
   "outputs": [],
   "source": [
    "# lever_names"
   ]
  },
  {
   "cell_type": "markdown",
   "metadata": {},
   "source": [
    "## Creating a new generation"
   ]
  },
  {
   "cell_type": "code",
   "execution_count": 27,
   "metadata": {},
   "outputs": [],
   "source": [
    "def generate_chromosome(constraint = False, constraint_levers = [], constraint_values = [], \n",
    "                        threshold = False, threshold_names = [], thresholds = []):\n",
    "    \"\"\"\n",
    "    Initialises a chromosome and returns its corresponding lever values, and temperature and cost. \n",
    "    Parameters:\n",
    "        - constraint (boolean): Flag to select whether any inputs have been fixed. \n",
    "        - constraint_levers (list of strings): Contains the name of levers to be fixed.  \n",
    "        - constraint_values (list of floats): Contains the values to fix the selected levers to. \n",
    "        - threshold (boolean): Flag to select whether any inputs have to be bounded within a range. \n",
    "        - threshold_names (list of strings): Contains the name of the levers to be bounded within a range. \n",
    "        - thresholds (list of lists of floats): Contains the upper and lower bound for each specified lever. \n",
    "    Returns:\n",
    "        - random_lever_values (list of floats): Contains lever values corresponding to generated chromosome. \n",
    "        - result (list): Contains temperature and cost values corresponding to the current chromosome. \n",
    "    \"\"\"\n",
    "    lever_names = list(dfs_3.iloc[:, 0].to_numpy()) # Create list with all lever names\n",
    "    # Generate random lever combination\n",
    "    random_lever_values = new_lever_combination(threshold = threshold, threshold_names = threshold_names, thresholds = thresholds) \n",
    "    # Fix specified input levers\n",
    "    if constraint == True:\n",
    "        lever_names, random_lever_values = overwrite_lever_values(lever_names, random_lever_values, constraint_levers,  constraint_values)\n",
    "    result = move_lever(lever_names, random_lever_values, costs = True, constraint = constraint, constraint_levers = constraint_levers, constraint_values = constraint_values) # Move lever accordingly and read temperature and cost valuesw\n",
    "    return random_lever_values, result"
   ]
  },
  {
   "cell_type": "markdown",
   "metadata": {},
   "source": [
    "## Fitness function"
   ]
  },
  {
   "cell_type": "code",
   "execution_count": 28,
   "metadata": {},
   "outputs": [],
   "source": [
    "def fitness(chromosome, target_temperature = 2850, target_cost = -3.5, output_constraint = False, current_output_values = [], output_constraint_names = [], output_constraints = [], std_devs = []):\n",
    "    \"\"\"Need to apply some sort of normalisation. Divide by standard deviation\"\"\"\n",
    "    total_cost = 0 # Initialise fitness\n",
    "    lever_names = list(dfs_3.iloc[:, 0].to_numpy()) # Create list with all lever names\n",
    "    output_names = list(dfs.iloc[:, 0].to_numpy()) # Create list with all output names\n",
    "    if output_constraint == True: # If output constraints have been set, take into account in fitness function\n",
    "        for i in range(len(output_constraint_names)): # Iterate through output constraints\n",
    "            if output_constraint_names[i] in  output_names: # Ensure name is correct, otherwise ignore constraint\n",
    "                # Equality constraint of specified output value. Normalised by diving it by an estimate of its standard deviation. \n",
    "                total_cost += (abs(current_output_values[output_names.index(output_constraint_names[i])] - output_constraints[i]))/std_devs[output_names.index(output_constraint_names[i])]\n",
    "    # Equality constraint for temperature value and inequality constraint for cost value (normalised with their approxiamte std dev)\n",
    "    total_cost += (abs(chromosome[0] - target_temperature)/18204.97) + (abs(chromosome[1] - target_cost)/34.59)\n",
    "    return  total_cost"
   ]
  },
  {
   "cell_type": "markdown",
   "metadata": {},
   "source": [
    "## Selection"
   ]
  },
  {
   "cell_type": "code",
   "execution_count": 29,
   "metadata": {},
   "outputs": [],
   "source": [
    "def selection(fitness_values):\n",
    "    \"\"\"Given an array of fitness values, find the indeces and the values of the 2 fittest candidates -> Parents\"\"\"\n",
    "    fittest_index = sorted(range(len(fitness_values)), key = lambda sub: fitness_values[sub])[:2] # Find 2 fittest candidates\n",
    "    parent_1, parent_2 = lever_values[fittest_index [0]], lever_values[fittest_index [1]] # Find values of parents\n",
    "    return parent_1, parent_2, fittest_index"
   ]
  },
  {
   "cell_type": "markdown",
   "metadata": {},
   "source": [
    "## Mutation "
   ]
  },
  {
   "cell_type": "code",
   "execution_count": 30,
   "metadata": {},
   "outputs": [],
   "source": [
    "def mutated_genes(lever_value, thresholds = [1, 3], threshold = False, threshold_name = \"\", threshold_value = \"\"):\n",
    "    \"\"\"Mutate gene by randomly moving a lever up or down by 0.1. Returns the mutated gene (the new lever value)\"\"\"\n",
    "    move = -0.\n",
    "    prob = random.randint(0, 100)/100 # Generate random gene\n",
    "    if prob < 0.5: move = -0.1 # Move lever down\n",
    "    else: move = 0.1 # Move lever up\n",
    "    # If the lever value is out of bounds, reverse direction of step (taking specified threshold into account)\n",
    "    if threshold == True:\n",
    "        if (lever_value + move < threshold_value[0]) or (lever_value + move > threshold_value[1]):\n",
    "            move = -move\n",
    "    else:\n",
    "        if (lever_value + move < thresholds[0]) or (lever_value + move > thresholds[1]):\n",
    "            move = -move\n",
    "    return round(lever_value + move, 3)"
   ]
  },
  {
   "cell_type": "markdown",
   "metadata": {},
   "source": [
    "## Crossover "
   ]
  },
  {
   "cell_type": "code",
   "execution_count": 31,
   "metadata": {},
   "outputs": [],
   "source": [
    "def mate(parent_1, parent_2, threshold = False, threshold_name = \"\", threshold_value = \"\"): \n",
    "        ''' Takes a couple of parents, performs crossover, and returns resulting child. '''\n",
    "        child_chromosome = [] \n",
    "        for p1, p2 in zip(parent_1, parent_2):     \n",
    "            prob = random.random()  # Generate random value\n",
    "            if prob < 0.4: # Select gene from 1st parent\n",
    "                child_chromosome.append(p1) \n",
    "            elif prob < 0.8: # Select gene from 2nd parent\n",
    "                child_chromosome.append(p2) \n",
    "            elif prob < 0.9: \n",
    "                child_chromosome.append(mutated_genes(p1, threshold = threshold, threshold_name = threshold_name, threshold_value = threshold_value))  # Mutate gene from 1st parent\n",
    "            else:\n",
    "                child_chromosome.append(mutated_genes(p2, threshold = threshold, threshold_name = threshold_name, threshold_value = threshold_value)) # Mutate gene from 2nd parent\n",
    "        return child_chromosome"
   ]
  },
  {
   "cell_type": "markdown",
   "metadata": {},
   "source": [
    "## Enabling multiple constraints"
   ]
  },
  {
   "cell_type": "markdown",
   "metadata": {},
   "source": [
    "### Enabling input constraints"
   ]
  },
  {
   "cell_type": "code",
   "execution_count": 32,
   "metadata": {},
   "outputs": [],
   "source": [
    "def overwrite(levers, values, address = str(driver.current_url)):\n",
    "    \"\"\"Given a set of lever names and corresponding values, overwrite specified lever combination\"\"\"\n",
    "    for i in range(len(levers)): # Overwrite 1 value at a time\n",
    "        address = new_URL(levers[i], values[i], address = address)  \n",
    "    return address\n",
    "\n",
    "def overwrite_lever_values(levers, values, constraint_levers, constraint_values):\n",
    "    \"\"\"\n",
    "    Given a set of lever names and corresponding values, and a set of \n",
    "    constrained lever names and their values, return the corresponding lever combination and its values. \n",
    "    \"\"\"\n",
    "    for i in range(len(levers)): # Iterate through all levers\n",
    "        if levers[i] in constraint_levers: # If current lever is constrained\n",
    "            values[i] = constraint_values[constraint_levers.index(levers[i])] # Update\n",
    "    return levers, values"
   ]
  },
  {
   "cell_type": "markdown",
   "metadata": {},
   "source": [
    "### Enabling output constraints"
   ]
  },
  {
   "cell_type": "code",
   "execution_count": 33,
   "metadata": {},
   "outputs": [],
   "source": [
    "def read_outputs():\n",
    "    \"\"\"Reads all outputs and returns them as a list (empirical scraping)\"\"\"\n",
    "    time.sleep(0.2) \n",
    "    compare_box = driver.find_element_by_xpath('//*[@id=\"mp-nav-compare\"]') # Move to the \"Compare\" section\n",
    "    time.sleep(0.1)\n",
    "    try: \n",
    "        compare_box.click()\n",
    "    except:\n",
    "        id_box = driver.find_element_by_id('lets-start') # Bypass \"Start\" screen\n",
    "        id_box.click()\n",
    "        time.sleep(0.1)\n",
    "        compare_box.click()\n",
    "    out_vals = []\n",
    "    for i in range(len(dfs)): \n",
    "        userid_element = driver.find_element_by_xpath(dfs.iloc[i, 2])\n",
    "        out_vals.append(float(userid_element.text.rstrip(\"%\")))\n",
    "    time.sleep(0.1)   \n",
    "    try:\n",
    "        driver.find_element_by_xpath('//*[@id=\"mn-1\"]').click() \n",
    "    except: # Problem going back to the overview section? The code below sorts it\n",
    "        time.sleep(0.2)\n",
    "        id_box = driver.find_element_by_id('lets-start') # Bypass \"Start\" screen\n",
    "        id_box.click()\n",
    "    return out_vals"
   ]
  },
  {
   "cell_type": "markdown",
   "metadata": {},
   "source": [
    "### Finding standard deviation of each output - Normalisation of cost function values"
   ]
  },
  {
   "cell_type": "code",
   "execution_count": null,
   "metadata": {},
   "outputs": [],
   "source": [
    "# Generate 20 random lever combinations and measure their standard deviation\n",
    "lever_values = []; output_values = []\n",
    "for i in range(20): # Generate 20 random lever combinations\n",
    "    random_lever_values = new_lever_combination() # Generate random lever combination\n",
    "    temp = move_lever(lever_names, random_lever_values, costs = True) # Move lever accordingly\n",
    "    if (temp[0] > 1000) and (temp[1]>-14): # Check for spurious values\n",
    "        lever_values.append(temp)\n",
    "        output_values.append(read_outputs())\n",
    "output_data = pd.DataFrame(np.array(output_values))\n",
    "std_devs = []\n",
    "for i in range(len(output_data.iloc[0, :])): # Read std dev of outputs corresponding to each lever combination\n",
    "    std_devs.append(output_data.iloc[:, i].std())"
   ]
  },
  {
   "cell_type": "markdown",
   "metadata": {},
   "source": [
    "## Defining the optimisation constraints"
   ]
  },
  {
   "cell_type": "code",
   "execution_count": 20,
   "metadata": {},
   "outputs": [],
   "source": [
    "# Specify input levers to fix\n",
    "constraint_lever_names = ['CCS electricity', \n",
    "'GGR1', \n",
    "'GGR2', \n",
    "'GGR3', \n",
    "'GGR4']\n",
    "constraint_lever_values = [1, 1, 1, 1, 1]\n",
    "\n",
    "# Specify input levers to bound within a threshold\n",
    "threshold_names  = [ 'Solar', \n",
    "                    'Wind',\n",
    "                    'Global population',\n",
    " 'Electric & hydrogen',\n",
    " 'CCS manufacturing',\n",
    "'Nuclear',\n",
    "'Calories consumed',\n",
    " 'Quantitiy of meat',\n",
    "  'Type of meat',\n",
    " 'Livestock grains/residues fed', \n",
    "'Land-use efficiency']\n",
    "thresholds = [[2.6, 3.2], [2.5, 3.0], [1.6, 2.0], [2.8, 3.1], [1, 2], [1.5, 2], [2, 3], [2, 3], [2, 3], [1.8, 2.2], [1.8, 2.2]]\n",
    "\n",
    "# Specify output constraints\n",
    "#output_constraint_names = ['Total energy demand (EJ / year)', 'Forest area (native and commercial, millions of hectares']\n",
    "#output_constraints = [420, 4100]"
   ]
  },
  {
   "cell_type": "code",
   "execution_count": 22,
   "metadata": {},
   "outputs": [],
   "source": [
    "palette = itertools.cycle(sns.color_palette(palette = \"Paired\", n_colors = 9))"
   ]
  },
  {
   "cell_type": "markdown",
   "metadata": {},
   "source": [
    "# Optimisation"
   ]
  },
  {
   "cell_type": "markdown",
   "metadata": {},
   "source": [
    "## Iterations"
   ]
  },
  {
   "cell_type": "code",
   "execution_count": 48,
   "metadata": {
    "scrolled": false
   },
   "outputs": [
    {
     "name": "stdout",
     "output_type": "stream",
     "text": [
      "Generation:  1 ; Fitness is:  5.670242897334173\n",
      "Temperature and cost values:  [3802, -4.37] ;  [3423, -0.57]\n",
      "Parents:\n",
      "[1.9, 2.2, 2.9, 3.0, 2.8, 2.8, 2.8, 2.1, 2.9, 2.5, 1.5, 1.8, 1.6, 2.3, 2.8, 2.6, 2.6, 2.0, 1.6, 2.8, 1.7, 2.0, 1, 1.9, 2.2, 1.5, 2.6, 1.7, 1.5, 3.2, 3.0, 2.7, 3.0, 2.7, 1.5, 3.0, 1.9, 2.7, 1.9, 2.1, 2.3, 1.5, 2.6, 1, 1, 1, 1, 1.7]\n",
      "[2.0, 2.3, 2.2, 2.8, 2.6, 2.5, 1.5, 1.7, 3.0, 2.3, 2.1, 2.8, 1.5, 1.9, 2.3, 2.9, 1.8, 1.8, 2.6, 2.6, 2.2, 1.1, 1, 2.0, 3.0, 2.0, 2.6, 2.5, 1.5, 3.2, 2.9, 2.0, 2.7, 3.0, 3.0, 1.8, 2.1, 2.4, 2.8, 2.1, 3.0, 2.9, 2.2, 1, 1, 1, 1, 2.2] \n",
      "\n",
      "Generation:  2 ; Fitness is:  1.462300582401043\n",
      "Temperature and cost values:  [3210, -4.01] ;  [3580, -3.62]\n",
      "Parents:\n",
      "[1.9, 2.3, 2.9, 3.0, 2.6, 2.5, 2.8, 1.7, 2.9, 2.5, 1.6, 1.9, 1.5, 1.9, 2.2, 2.9, 2.7, 2.0, 1.6, 2.8, 2.2, 2.0, 1, 2.0, 2.2, 2.0, 2.6, 1.7, 1.4, 3.2, 2.9, 2.7, 2.7, 3.0, 3.0, 3.0, 2.0, 2.3, 2.7, 2.1, 2.3, 2.9, 2.2, 1, 1, 1, 1, 2.1]\n",
      "[2.0, 2.1, 2.2, 2.7, 2.7, 2.5, 2.8, 2.1, 3.0, 2.5, 1.5, 2.9, 1.6, 2.3, 2.3, 2.6, 2.6, 1.7, 1.6, 2.7, 1.7, 1.1, 1, 1.9, 3.0, 2.0, 2.7, 2.5, 1.5, 3.2, 3.0, 2.0, 3.0, 2.7, 1.5, 3.0, 1.9, 2.7, 2.8, 2.0, 3.0, 1.5, 2.2, 1, 1, 1, 1, 1.8] \n",
      "\n",
      "Generation:  3 ; Fitness is:  0.6675545232639337\n",
      "Temperature and cost values:  [3020, -3.83] ;  [3052, -3.78]\n",
      "Parents:\n",
      "[2.0, 2.3, 2.2, 2.7, 2.6, 2.5, 2.8, 1.7, 3.0, 2.5, 1.5, 2.9, 1.5, 2.2, 2.2, 2.9, 2.8, 1.7, 1.6, 2.7, 1.7, 1.0, 1, 2.0, 3.0, 2.0, 2.7, 2.5, 1.4, 3.1, 3.0, 2.7, 2.7, 3.0, 3.0, 2.9, 2.0, 2.7, 2.8, 2.0, 2.3, 1.4, 2.2, 1, 1, 1, 1, 1.8]\n",
      "[1.9, 2.3, 2.2, 2.7, 2.7, 2.5, 2.8, 1.7, 2.9, 2.5, 1.6, 2.9, 1.5, 2.3, 2.4, 2.9, 2.6, 1.7, 1.6, 2.8, 2.2, 2.0, 1, 2.1, 2.3, 2.0, 2.7, 2.5, 1.6, 3.2, 2.9, 2.0, 3.0, 3.0, 3.0, 3.0, 1.9, 2.7, 2.7, 2.0, 2.3, 1.5, 2.3, 1, 1, 1, 1, 1.8] \n",
      "\n",
      "Generation:  4 ; Fitness is:  0.38637274489033\n",
      "Temperature and cost values:  [2977, -3.63] ;  [2966, -3.67]\n",
      "Parents:\n",
      "[2.0, 2.3, 2.1, 2.7, 2.6, 2.5, 2.7, 1.7, 2.9, 2.5, 1.6, 2.9, 1.5, 2.2, 2.2, 2.8, 2.9, 1.7, 1.6, 2.7, 2.2, 1.0, 1, 2.2, 2.9, 2.0, 2.6, 2.5, 1.6, 3.2, 3.0, 2.0, 2.9, 3.0, 3.0, 3.0, 1.9, 2.7, 2.9, 2.0, 2.2, 1.5, 2.2, 1, 1, 1, 1, 1.8]\n",
      "[2.0, 2.2, 2.1, 2.6, 2.6, 2.5, 2.9, 1.7, 3.0, 2.5, 1.6, 2.9, 1.6, 2.2, 2.3, 2.9, 2.7, 1.7, 1.6, 2.8, 2.2, 2.0, 1, 2.1, 2.3, 2.1, 2.7, 2.6, 1.6, 3.2, 2.9, 2.7, 2.7, 3.0, 3.0, 3.0, 1.9, 2.7, 2.8, 1.9, 2.3, 1.4, 2.2, 1, 1, 1, 1, 1.8] \n",
      "\n",
      "Generation:  5 ; Fitness is:  1.1163830431576325\n",
      "Temperature and cost values:  [2906, -3.59] ;  [2923, -3.76]\n",
      "Parents:\n",
      "[2.0, 2.2, 2.1, 2.6, 2.7, 2.5, 2.7, 1.8, 3.0, 2.5, 1.7, 2.9, 1.5, 2.2, 2.3, 2.9, 2.9, 1.6, 1.7, 2.9, 2.3, 2.0, 1, 2.2, 2.8, 2.1, 2.6, 2.5, 1.5, 3.2, 2.9, 2.0, 2.9, 2.9, 3.0, 2.9, 1.9, 2.8, 2.9, 2.0, 2.3, 1.5, 2.2, 1, 1, 1, 1, 1.8]\n",
      "[2.0, 2.3, 2.2, 2.6, 2.6, 2.5, 2.9, 1.7, 2.9, 2.5, 1.6, 2.9, 1.6, 2.3, 2.2, 2.7, 2.7, 1.7, 1.6, 2.8, 2.2, 2.0, 1, 2.2, 2.9, 2.1, 2.7, 2.5, 1.6, 3.2, 3.0, 2.7, 2.7, 3.0, 3.0, 3.0, 1.9, 2.7, 2.8, 2.0, 2.2, 1.4, 2.2, 1, 1, 1, 1, 1.8] \n",
      "\n",
      "Generation:  6 ; Fitness is:  0.2567286675058426\n",
      "Temperature and cost values:  [2842, -3.55] ;  [2849, -3.57]\n",
      "Parents:\n",
      "[2.0, 2.2, 2.2, 2.6, 2.6, 2.4, 2.8, 1.8, 3.0, 2.5, 1.6, 2.8, 1.7, 2.2, 2.1, 2.9, 3.0, 1.7, 1.6, 3.0, 2.3, 2.0, 1, 2.2, 2.8, 2.2, 2.6, 2.5, 1.4, 3.2, 2.9, 2.0, 2.9, 3.0, 3.0, 3.0, 1.9, 2.8, 2.7, 2.0, 2.3, 1.4, 2.1, 1, 1, 1, 1, 1.8]\n",
      "[2.0, 2.3, 2.2, 2.6, 2.6, 2.5, 2.7, 1.8, 3.0, 2.6, 1.7, 2.9, 1.5, 2.4, 2.2, 2.9, 2.9, 1.7, 1.7, 2.9, 2.2, 2.0, 1, 2.2, 2.9, 2.1, 2.6, 2.5, 1.6, 3.1, 3.0, 2.1, 2.7, 3.0, 3.0, 2.9, 1.9, 2.8, 2.9, 2.0, 2.3, 1.5, 2.1, 1, 1, 1, 1, 1.8] \n",
      "\n",
      "Generation:  7 ; Fitness is:  0.15218625644619693\n",
      "Temperature and cost values:  [2851, -3.44] ;  [2833, -3.47]\n",
      "Parents:\n",
      "[2.0, 2.3, 2.2, 2.6, 2.6, 2.5, 2.7, 1.8, 3.0, 2.5, 1.7, 2.8, 1.5, 2.4, 2.2, 2.9, 2.9, 1.6, 1.6, 3.0, 2.2, 2.0, 1, 2.1, 2.9, 2.1, 2.6, 2.5, 1.6, 3.1, 2.9, 2.1, 2.7, 3.0, 3.0, 2.9, 1.9, 2.8, 2.9, 2.0, 2.3, 1.5, 2.2, 1, 1, 1, 1, 1.9]\n",
      "[2.0, 2.3, 2.2, 2.5, 2.6, 2.4, 2.7, 1.8, 3.0, 2.6, 1.6, 2.9, 1.5, 2.4, 2.2, 2.9, 3.0, 1.8, 1.5, 2.9, 2.2, 2.0, 1, 2.2, 2.8, 2.1, 2.6, 2.4, 1.4, 3.1, 2.9, 2.0, 3.0, 3.0, 3.0, 2.8, 1.8, 2.8, 2.9, 2.0, 2.3, 1.4, 2.0, 1, 1, 1, 1, 1.8] \n",
      "\n",
      "Generation:  8 ; Fitness is:  0.14346718216650817\n",
      "Temperature and cost values:  [2842, -3.51] ;  [2832, -3.49]\n",
      "Parents:\n",
      "[2.0, 2.3, 2.2, 2.6, 2.6, 2.4, 2.7, 1.8, 3.0, 2.6, 1.7, 2.9, 1.5, 2.4, 2.2, 2.9, 3.0, 1.6, 1.4, 2.9, 2.2, 2.0, 1, 2.2, 2.9, 2.1, 2.6, 2.5, 1.6, 3.1, 2.9, 2.1, 2.7, 3.0, 2.9, 2.9, 1.9, 2.8, 2.9, 2.0, 2.4, 1.5, 2.2, 1, 1, 1, 1, 1.8]\n",
      "[2.0, 2.3, 2.2, 2.7, 2.6, 2.4, 2.7, 1.8, 3.0, 2.6, 1.6, 2.8, 1.5, 2.4, 2.1, 2.9, 2.9, 1.6, 1.6, 2.9, 2.2, 2.0, 1, 2.2, 2.9, 2.1, 2.6, 2.4, 1.7, 3.1, 2.9, 2.0, 2.8, 3.0, 2.9, 2.9, 1.9, 2.8, 2.9, 2.0, 2.3, 1.4, 2.2, 1, 1, 1, 1, 1.8] \n",
      "\n",
      "Generation:  9 ; Fitness is:  0.16811875632277545\n",
      "Temperature and cost values:  [2841, -3.49] ;  [2858, -3.46]\n",
      "Parents:\n",
      "[2.0, 2.3, 2.2, 2.6, 2.5, 2.4, 2.8, 1.8, 3.0, 2.6, 1.6, 2.9, 1.5, 2.4, 2.2, 2.9, 3.0, 1.6, 1.4, 2.9, 2.2, 2.1, 1, 2.2, 2.9, 2.1, 2.6, 2.5, 1.6, 3.1, 2.9, 2.0, 2.7, 3.0, 2.9, 2.9, 1.9, 2.8, 2.9, 2.0, 2.4, 1.5, 2.2, 1, 1, 1, 1, 1.8]\n",
      "[2.0, 2.3, 2.2, 2.7, 2.6, 2.4, 2.7, 1.8, 3.0, 2.6, 1.7, 2.8, 1.5, 2.5, 2.1, 2.9, 3.0, 1.6, 1.6, 2.9, 2.2, 2.0, 1, 2.2, 2.9, 2.1, 2.5, 2.5, 1.6, 3.1, 2.9, 2.0, 2.8, 3.0, 2.9, 2.9, 1.9, 2.8, 2.9, 1.9, 2.3, 1.6, 2.3, 1, 1, 1, 1, 1.9] \n",
      "\n"
     ]
    },
    {
     "data": {
      "image/png": "[encoded data removed]",
      "text/plain": [
       "<Figure size 1152x648 with 1 Axes>"
      ]
     },
     "metadata": {
      "needs_background": "light"
     },
     "output_type": "display_data"
    }
   ],
   "source": [
    "# Run GA optimiser\n",
    "fitness_progress, lever_vals = iterate(iterations = 9, plot = True, population_size = 20, constraint = True, threshold = True,  constraint_levers = constraint_lever_names, constraint_values = constraint_lever_values,  threshold_names = threshold_names, thresholds = thresholds, output_constraint_names = output_constraint_names, output_constraints = output_constraints)##, std_devs = std_devs)"
   ]
  },
  {
   "cell_type": "markdown",
   "metadata": {},
   "source": [
    "## Cost minimisation"
   ]
  },
  {
   "cell_type": "code",
   "execution_count": 53,
   "metadata": {},
   "outputs": [],
   "source": [
    "temp_fitness_progress[-1] = temp_fitness_progress[-2]"
   ]
  },
  {
   "cell_type": "code",
   "execution_count": 54,
   "metadata": {},
   "outputs": [
    {
     "data": {
      "text/plain": [
       "[<matplotlib.lines.Line2D at 0x245282d81c8>]"
      ]
     },
     "execution_count": 54,
     "metadata": {},
     "output_type": "execute_result"
    },
    {
     "data": {
      "image/png": "[encoded data removed]",
      "text/plain": [
       "<Figure size 864x504 with 1 Axes>"
      ]
     },
     "metadata": {
      "needs_background": "light"
     },
     "output_type": "display_data"
    }
   ],
   "source": [
    "plt.figure(figsize = (12, 7))\n",
    "plt.title(\"Cost as a function of generations\", fontsize = 16)\n",
    "plt.xlabel(\"Generation\", fontsize = 16)\n",
    "plt.ylabel(\"Cost\", fontsize = 16)\n",
    "plt.plot(temp_fitness_progress, '-o')"
   ]
  }
 ],
 "metadata": {
  "kernelspec": {
   "display_name": "Python 3",
   "language": "python",
   "name": "python3"
  },
  "language_info": {
   "codemirror_mode": {
    "name": "ipython",
    "version": 3
   },
   "file_extension": ".py",
   "mimetype": "text/x-python",
   "name": "python",
   "nbconvert_exporter": "python",
   "pygments_lexer": "ipython3",
   "version": "3.7.6"
  }
 },
 "nbformat": 4,
 "nbformat_minor": 4
}
